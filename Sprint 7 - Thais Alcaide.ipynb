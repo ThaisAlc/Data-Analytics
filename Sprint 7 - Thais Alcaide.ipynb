{
 "cells": [
  {
   "cell_type": "markdown",
   "metadata": {},
   "source": [
    "Sprint 7\n",
    "- Exercici 1\n",
    "\n",
    "Calculadora de l'índex de massa corporal\n",
    "\n",
    "    Escriu una funció que calculi l'IMC ingressat per l'usuari/ària, és a dir, qui ho executi haurà d'ingressar aquestes dades. \n",
    "    La funció ha de classificar el resultat en les seves respectives categories\n"
   ]
  },
  {
   "cell_type": "code",
   "execution_count": 1,
   "metadata": {},
   "outputs": [],
   "source": [
    "import pandas as pd"
   ]
  },
  {
   "cell_type": "code",
   "execution_count": 28,
   "metadata": {},
   "outputs": [
    {
     "name": "stdout",
     "output_type": "stream",
     "text": [
      "El teu IMC es 21.48 i esta classificat com pes normal.\n"
     ]
    }
   ],
   "source": [
    "pes = float(input('Introdueix el teu pes en kg:')) \n",
    "alçada = float(input('Introdueix la teva alçada en cm:'))\n",
    "\n",
    "\n",
    "def IMC():\n",
    "    IMC = pes / (alçada/100)**2\n",
    "    \n",
    "    if IMC < 0:\n",
    "        print('El teu IMC no pot ser inferior a 0, si us plau revisa les dades introduides')\n",
    "    elif IMC < 18.5:\n",
    "        print(f'El teu IMC es {IMC:.2f} i esta classificat com pes baix.')\n",
    "    elif IMC <= 24.9:\n",
    "        print(f'El teu IMC es {IMC:.2f} i esta classificat com pes normal.')\n",
    "    elif IMC <=29.9:\n",
    "        print(f'El teu IMC es {IMC:.2f} i esta classificat com sobrepes.')\n",
    "    else:\n",
    "        print(f'El teu IMC es {IMC:.2f} i esta classificat com obesitat.')\n",
    "        \n",
    "IMC()"
   ]
  },
  {
   "cell_type": "markdown",
   "metadata": {},
   "source": [
    "- Exercici 2\n",
    "\n",
    "Convertidor de temperatures.\n",
    "\n",
    "Existeixen diverses unitats de temperatura utilitzades en diferents contextos i regions. Les més comunes són Celsius (°C), Fahrenheit (°F) i Kelvin (K). També existeixen altres unitats com Rankine (°Ra) i Réaumur (°Re). Selecciona almenys 2 conversors, de tal manera que en introduir una temperatura retorni, com a mínim, dues conversions."
   ]
  },
  {
   "cell_type": "code",
   "execution_count": 24,
   "metadata": {},
   "outputs": [
    {
     "name": "stdout",
     "output_type": "stream",
     "text": [
      "Unitat incorrecta, si us plau reviseu les opcions disponibles.\n"
     ]
    }
   ],
   "source": [
    "temperatura = float(input('Introdueix la temperatura que vols convertir:'))\n",
    "unitat = int(input('Escull la unitat de temperatura: 1.Celsius 2.Fahrenheit 3.Kelvin'))\n",
    "\n",
    "def convert_temp():\n",
    "    if unitat == 1:\n",
    "        fahrenheit = temperatura * (9/5) + 32 \n",
    "        kelvin = temperatura + 273.15\n",
    "        print(f'La temperatura {temperatura} °C es equivalent a {fahrenheit:.2f} °F i {kelvin:.2f} K.')\n",
    "    elif unitat == 2:\n",
    "        celsius = (temperatura - 32) * 5/9\n",
    "        kelvin = (temperatura - 32) * 5/9 + 273.15\n",
    "        print(f'La temperatura {temperatura} °F es equivalent a {celsius:.2f} °C i {kelvin:.2f} K.')\n",
    "    elif unitat == 3:\n",
    "        celsius = temperatura - 273.15\n",
    "        fahrenheit = 1.8*(temperatura-273) + 32\n",
    "        print(f'La temperatura {temperatura} K es equivalent a {celsius:.2f} °C i {fahrenheit:.2f} °F.')     \n",
    "    else:\n",
    "        print('Unitat incorrecta, si us plau reviseu les opcions disponibles.')   \n",
    "\n",
    "convert_temp()"
   ]
  },
  {
   "cell_type": "markdown",
   "metadata": {},
   "source": [
    "- Exercici 3\n",
    "Comptador de paraules d'un text.\n",
    "Escriu una funció que donat un text, mostri les vegades que apareix cada paraula.\n",
    "\n"
   ]
  },
  {
   "cell_type": "code",
   "execution_count": 39,
   "metadata": {},
   "outputs": [
    {
     "name": "stdout",
     "output_type": "stream",
     "text": [
      "Aquest es el text introduit: Plou poc, però quan plou plou prou.\n",
      "Nombre de vegades que es repeteix cada paraula en el text: {'plou': 3, 'poc': 1, 'però': 1, 'quan': 1, 'prou': 1}\n"
     ]
    }
   ],
   "source": [
    "text = input('Escriu un text:')\n",
    "text2 = text.lower()\n",
    "import re\n",
    "text2 = re.sub('[,.:!?]',' ',text2)\n",
    "paraules = text2.split()\n",
    "\n",
    "resum = {}\n",
    "\n",
    "def comptador_paraules():\n",
    "    for paraula in paraules:\n",
    "        if paraula in resum:\n",
    "            resum[paraula] = resum[paraula] + 1\n",
    "        else:\n",
    "            resum[paraula] = 1\n",
    "    print(f'Nombre de vegades que es repeteix cada paraula en el text: {resum}')\n",
    "\n",
    "print(f'Aquest es el text introduit: {text}')\n",
    "comptador_paraules()"
   ]
  },
  {
   "cell_type": "markdown",
   "metadata": {},
   "source": [
    "- Exercici 4\n",
    "\n",
    "Diccionari invers.\n",
    "\n",
    "Resulta que el client té una enquesta molt antiga que s'emmagatzema en un diccionari i els resultats els necessita al revés, és a dir, intercanviats les claus i els valors. Els valors i claus en el diccionari original són únics; si aquest no és el cas, la funció hauria d'imprimir un missatge d'advertiment.\n",
    "\n",
    "dictionary1({'a': 1, 'b': 2, 'c': 3})\n",
    "dictionary2({'x': 'apple', 'y': 'banana', 'z': 'banana'})"
   ]
  },
  {
   "cell_type": "code",
   "execution_count": 27,
   "metadata": {},
   "outputs": [
    {
     "name": "stdout",
     "output_type": "stream",
     "text": [
      "{1: 'a', 2: 'b', 3: 'c'}\n",
      "Advertiment, els valors i/o claus no son unics.\n"
     ]
    }
   ],
   "source": [
    "reverse_dictionary = ({'a': 1, 'b':2, 'c':3})\n",
    "reverse_dictionary2 = ({'x': 'apple', 'y':'banana', 'z':'banana'})\n",
    "\n",
    "def reverse(d):\n",
    "    if len(d.values()) != len(set(d.values())):\n",
    "        print('Advertiment, els valors i/o claus no son unics.')\n",
    "    else:\n",
    "        reverse_dict = {value: key for key, value in d.items()}\n",
    "        print(reverse_dict) \n",
    "\n",
    "reverse(reverse_dictionary)\n",
    "reverse(reverse_dictionary2)\n"
   ]
  }
 ],
 "metadata": {
  "kernelspec": {
   "display_name": "Python 3",
   "language": "python",
   "name": "python3"
  },
  "language_info": {
   "codemirror_mode": {
    "name": "ipython",
    "version": 3
   },
   "file_extension": ".py",
   "mimetype": "text/x-python",
   "name": "python",
   "nbconvert_exporter": "python",
   "pygments_lexer": "ipython3",
   "version": "3.12.5"
  }
 },
 "nbformat": 4,
 "nbformat_minor": 2
}
